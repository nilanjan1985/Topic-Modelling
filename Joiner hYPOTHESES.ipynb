{
 "cells": [
  {
   "cell_type": "markdown",
   "id": "70341161",
   "metadata": {},
   "source": [
    "## Importing the necessary package ##"
   ]
  },
  {
   "cell_type": "code",
   "execution_count": 1,
   "id": "7feba6d7",
   "metadata": {},
   "outputs": [
    {
     "name": "stderr",
     "output_type": "stream",
     "text": [
      "Matplotlib is building the font cache; this may take a moment.\n"
     ]
    },
    {
     "ename": "ModuleNotFoundError",
     "evalue": "No module named 'spacy'",
     "output_type": "error",
     "traceback": [
      "\u001b[1;31m---------------------------------------------------------------------------\u001b[0m",
      "\u001b[1;31mModuleNotFoundError\u001b[0m                       Traceback (most recent call last)",
      "Input \u001b[1;32mIn [1]\u001b[0m, in \u001b[0;36m<cell line: 7>\u001b[1;34m()\u001b[0m\n\u001b[0;32m      5\u001b[0m \u001b[38;5;28;01mimport\u001b[39;00m \u001b[38;5;21;01mmatplotlib\u001b[39;00m\u001b[38;5;21;01m.\u001b[39;00m\u001b[38;5;21;01mpyplot\u001b[39;00m \u001b[38;5;28;01mas\u001b[39;00m \u001b[38;5;21;01mplt\u001b[39;00m\n\u001b[0;32m      6\u001b[0m \u001b[38;5;28;01mimport\u001b[39;00m \u001b[38;5;21;01mjson\u001b[39;00m\n\u001b[1;32m----> 7\u001b[0m \u001b[38;5;28;01mimport\u001b[39;00m \u001b[38;5;21;01mre\u001b[39;00m\u001b[38;5;241m,\u001b[39m \u001b[38;5;21;01mnltk\u001b[39;00m\u001b[38;5;241m,\u001b[39m\u001b[38;5;21;01mspacy\u001b[39;00m\u001b[38;5;241m,\u001b[39m\u001b[38;5;21;01mstring\u001b[39;00m\n\u001b[0;32m      8\u001b[0m \u001b[38;5;28;01mimport\u001b[39;00m \u001b[38;5;21;01men_core_web_sm\u001b[39;00m\n\u001b[0;32m      9\u001b[0m nlp \u001b[38;5;241m=\u001b[39m en_core_web_sm\u001b[38;5;241m.\u001b[39mload()\n",
      "\u001b[1;31mModuleNotFoundError\u001b[0m: No module named 'spacy'"
     ]
    }
   ],
   "source": [
    "import pandas as pd\n",
    "import numpy as np\n",
    "import re\n",
    "import sys\n",
    "import matplotlib.pyplot as plt\n",
    "import json\n",
    "import re, nltk,spacy,string\n",
    "import en_core_web_sm\n",
    "nlp = en_core_web_sm.load()\n",
    "import seaborn as sns\n",
    "import matplotlib.pyplot as plt\n",
    "%matplotlib inline\n",
    "from plotly.offline import plot\n",
    "import plotly.graph_objects as go\n",
    "import plotly.express as px\n",
    "from sklearn.feature_extraction.text import CountVectorizer , TfidfVectorizer\n",
    "from pprint import pprint\n",
    "import warnings\n",
    "warnings.filterwarnings('ignore')\n",
    "\n",
    "pd.set_option('display.max_columns',None)\n",
    "pd.set_option('display.max_rows',None)"
   ]
  },
  {
   "cell_type": "markdown",
   "id": "566d37ea",
   "metadata": {},
   "source": [
    "## Reading the dataset ##"
   ]
  },
  {
   "cell_type": "code",
   "execution_count": null,
   "id": "06322128",
   "metadata": {},
   "outputs": [],
   "source": [
    "df = pd.read_excel(\"dataset\")"
   ]
  },
  {
   "cell_type": "code",
   "execution_count": null,
   "id": "b482c9b7",
   "metadata": {},
   "outputs": [],
   "source": [
    "df.head(20)"
   ]
  },
  {
   "cell_type": "code",
   "execution_count": null,
   "id": "10c32201",
   "metadata": {},
   "outputs": [],
   "source": [
    "df['location'].unique()"
   ]
  },
  {
   "cell_type": "code",
   "execution_count": null,
   "id": "4c3a1666",
   "metadata": {},
   "outputs": [],
   "source": [
    "df['Location'].value_counts().plot.bar()"
   ]
  },
  {
   "cell_type": "code",
   "execution_count": null,
   "id": "c0ec5a4e",
   "metadata": {},
   "outputs": [],
   "source": [
    "df['Department Group1'].unique()"
   ]
  },
  {
   "cell_type": "markdown",
   "id": "eb6fde77",
   "metadata": {},
   "source": [
    "## Application Status wise classification - Hired ##"
   ]
  },
  {
   "cell_type": "code",
   "execution_count": null,
   "id": "adc9cd15",
   "metadata": {},
   "outputs": [],
   "source": [
    "df_application= df[df['Applicaton Status'] == 'Hired']\n",
    "df_application"
   ]
  },
  {
   "cell_type": "code",
   "execution_count": null,
   "id": "10f62508",
   "metadata": {},
   "outputs": [],
   "source": [
    "df_application['Center'].value_counts().plot.bar(color=[\"yellow\",\"grey\"])"
   ]
  },
  {
   "cell_type": "markdown",
   "id": "9c4750a9",
   "metadata": {},
   "source": [
    "## Application Status wise classification - Declined ##"
   ]
  },
  {
   "cell_type": "code",
   "execution_count": null,
   "id": "fc1203e2",
   "metadata": {},
   "outputs": [],
   "source": [
    "df_Application_Declined = df[(df['Final Status'] == 'Offer Declined') | (df['Final Status'] == 'Offer Declined - Accepted offer from another employer') ]"
   ]
  },
  {
   "cell_type": "code",
   "execution_count": null,
   "id": "f60794ad",
   "metadata": {},
   "outputs": [],
   "source": [
    "## Checking the rank wise distribution ##\n",
    "Application_Status_List = list(df_Application_Declined['Application Status'].unique())\n",
    "Application_Status_list"
   ]
  },
  {
   "cell_type": "code",
   "execution_count": null,
   "id": "f805b91f",
   "metadata": {},
   "outputs": [],
   "source": [
    "for applicationlist in Application_Status_list:\n",
    "    temp_df = df_Application_Declined[df_Application_Declined['Application Status'] == applicationlist]\n",
    "    val = temp_df['Rank 1'].value_counts()\n",
    "    rank_names = list(val.index)\n",
    "    rank_count = list(val.values)\n",
    "    color_list = []e*\n",
    "    for i in range(0,len(rank_names),2):\n",
    "        color_list.append(\"yellow\")\n",
    "        if i+1 != len(rank_names):\n",
    "            color_list.append(\"gray\")\n",
    "    barchart = plt.bar(rank_names, rank_count,color = color_list)\n",
    "    for bc , name in zip(barchart,rank_names):\n",
    "        dt1 = df_Application_Declined[df_Application_Declined['Application Status'] == applicationlist]\n",
    "        dt2 = dt1[dt1['Rank 1'] == name]\n",
    "        percentage = len(dt2) / len(dt1)\n",
    "        width=bc.get_width()\n",
    "        height = bc.get_height()\n",
    "        x , y = bc.get_xy()\n",
    "        plt.text(x + widh/3, y+height*1,str(round(percentage*100)) + '%',ha='center')\n",
    "    plt.xticks(rotation=90)\n",
    "    plt.title(applicationlist)\n",
    "    plt_Show\n",
    "rank_count   \n",
    "                                            "
   ]
  },
  {
   "cell_type": "code",
   "execution_count": null,
   "id": "d9edb355",
   "metadata": {},
   "outputs": [],
   "source": [
    "pct_series = df_final_status-joined['Sub serviceline'].value_counts(normalize=True)*100\n",
    "count_series = pct_series = df_final_status_joined['Sub serviceline'].value_counts()\n",
    "names = list(pct_series.index)[:10]\n",
    "pct_list = list(pct_series.values)[:10]\n",
    "count_list = list(count_series.values)[:10]\n",
    "width = 0.75\n",
    "fig , ax = plt.subplots()\n",
    "width = 0.75\n",
    "fig,ax = plt.subplots()\n",
    "ax.barh(names, count_list, width, color=\"green\")\n",
    "for i , v in enumerate(pct_list):\n",
    "    ax.text(v + 3,i+.25,str(v),\n",
    "            color = 'blue',fontweigh = 'bold')\n",
    "plt.xticks(rotation=90)\n",
    "plt.show()\n",
    "plt.show()"
   ]
  },
  {
   "cell_type": "code",
   "execution_count": null,
   "id": "77323170",
   "metadata": {},
   "outputs": [],
   "source": [
    "df_july_2021_sf.rename(columns={'Unnamed: 0':'Observation'},inplace=True)\n"
   ]
  },
  {
   "cell_type": "code",
   "execution_count": null,
   "id": "577eb1a9",
   "metadata": {},
   "outputs": [],
   "source": [
    "df_july_2021_sf = df_july_2021_sf.fillna(0)\n",
    "col_list = list(df_july_2021_sf.columns)\n",
    "for col in col_list:\n",
    "    if col == 'Observation':\n",
    "        continue\n",
    "    print(col)\n",
    "    df_july_2021_sf[col] = df_july_2021_sf[col].replace(\"-\",0)\n",
    "    print(list(df_july_2021_sf[col]))\n",
    "    plt.bar(list(df_july_2021_sf['Observations'])[1:], list(df_july_2021_sf[col])[1:],color=\"red\",width=0.4)\n",
    "    plt.xticks(rotation=90)\n",
    "    plt.title(col)\n",
    "    plt.show()"
   ]
  }
 ],
 "metadata": {
  "kernelspec": {
   "display_name": "Python 3 (ipykernel)",
   "language": "python",
   "name": "python3"
  },
  "language_info": {
   "codemirror_mode": {
    "name": "ipython",
    "version": 3
   },
   "file_extension": ".py",
   "mimetype": "text/x-python",
   "name": "python",
   "nbconvert_exporter": "python",
   "pygments_lexer": "ipython3",
   "version": "3.9.12"
  }
 },
 "nbformat": 4,
 "nbformat_minor": 5
}
